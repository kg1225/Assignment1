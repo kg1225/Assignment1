{
 "cells": [
  {
   "cell_type": "markdown",
   "metadata": {},
   "source": [
    "### Q1. What are the characteristics of the tuples? Is tuple immutable?"
   ]
  },
  {
   "cell_type": "markdown",
   "metadata": {},
   "source": [
    "1. Tuples work as containers, which store the data in it.\n",
    "2. Tuples are ordered, the elements present have a specific position. \n",
    "3. Tuples are iterable, so that we can use them in a loop. \n",
    "4. Tuples are immutable, so once tuple is created, we cannot change them. \n",
    "5. Tuples are heterogenous, that means it contains different data types. "
   ]
  },
  {
   "cell_type": "markdown",
   "metadata": {},
   "source": [
    "### Q2. What are the two tuple methods in python? Give an example of each method. Give a reason why tuples have only two in-built methods as compared to Lists."
   ]
  },
  {
   "cell_type": "markdown",
   "metadata": {},
   "source": [
    "There are two tuple methods: count() method and index() method"
   ]
  },
  {
   "cell_type": "markdown",
   "metadata": {},
   "source": [
    "The count() method of Tuple returns the number of times the given element appears in the tuple."
   ]
  },
  {
   "cell_type": "code",
   "execution_count": 2,
   "metadata": {},
   "outputs": [
    {
     "name": "stdout",
     "output_type": "stream",
     "text": [
      "Count of 3 in tuple1 is :  4\n",
      "Count of 'python' in tuple2 is :  2\n"
     ]
    }
   ],
   "source": [
    "tuple1 = (1,2,5,4,6,3,8,9,3,4,8,6,3,2,14,33,6,3)\n",
    "tuple2 = (\"data science\",\"python\",\"masters\",\"python\",\"Python\",\"PYTHON\")\n",
    "\n",
    "count1 = tuple1.count(3)\n",
    "count2 = tuple2.count(\"python\")\n",
    "\n",
    "print(\"Count of 3 in tuple1 is : \",count1)\n",
    "print(\"Count of 'python' in tuple2 is : \",count2)"
   ]
  },
  {
   "cell_type": "markdown",
   "metadata": {},
   "source": [
    "The Index() method returns the first occurrence of the given element from the tuple."
   ]
  },
  {
   "cell_type": "code",
   "execution_count": 4,
   "metadata": {},
   "outputs": [
    {
     "name": "stdout",
     "output_type": "stream",
     "text": [
      "Index of first occurance of 3 in tuple1 is :  5\n",
      "Index of 3 after 6th index in tuple1 is :  8\n"
     ]
    }
   ],
   "source": [
    "tuple1 = (1,2,5,4,6,3,8,9,3,4,8,6,3,2,14,33,6,3)\n",
    "\n",
    "index1 = tuple1.index(3)\n",
    "index2 = tuple1.index(3,6)\n",
    "\n",
    "print(\"Index of first occurance of 3 in tuple1 is : \",index1)\n",
    "print(\"Index of 3 after 6th index in tuple1 is : \",index2)"
   ]
  },
  {
   "cell_type": "markdown",
   "metadata": {},
   "source": [
    "Tuples have only two built-in methods (count and index) compared to lists primarily because tuples are designed to be immutable, while lists are mutable.\n",
    "Lists in Python are mutable, allowing for extensive manipulation of their contents. Therefore, lists have a larger set of built-in methods that facilitate adding, removing, and modifying elements dynamically. This difference in mutability fundamentally shapes the available methods and their utility for each type."
   ]
  },
  {
   "cell_type": "markdown",
   "metadata": {},
   "source": [
    "### Q3.  Which collection datatypes in python do not allow duplicate items? Write a code using a set to remove duplicates from the given list.  \n",
    "List = [1, 1, 1, 2, 1, 3, 1, 4, 2, 1, 2, 2, 2, 3, 2, 4, 3, 1, 3, 2, 3, 3, 3, 4, 4, 1, 4, 2, 4, 3, 4, 4]"
   ]
  },
  {
   "cell_type": "markdown",
   "metadata": {},
   "source": [
    "Set and dict do not allow duplicate items"
   ]
  },
  {
   "cell_type": "code",
   "execution_count": 5,
   "metadata": {},
   "outputs": [
    {
     "data": {
      "text/plain": [
       "[1, 2, 3, 4]"
      ]
     },
     "execution_count": 5,
     "metadata": {},
     "output_type": "execute_result"
    }
   ],
   "source": [
    "List = [1, 1, 1, 2, 1, 3, 1, 4, 2, 1, 2, 2, 2, 3, 2, 4, 3, 1, 3, 2, 3, 3, 3, 4, 4, 1, 4, 2, 4, 3, 4, 4]\n",
    "list(set(List))"
   ]
  },
  {
   "cell_type": "markdown",
   "metadata": {},
   "source": [
    "### Q4. Explain the difference between the union() and update() methods for a set. Give an example of each method."
   ]
  },
  {
   "cell_type": "markdown",
   "metadata": {},
   "source": [
    "The union() method and the update() method are both used to join sets in Python, but they have different behaviors and return values."
   ]
  },
  {
   "cell_type": "markdown",
   "metadata": {},
   "source": [
    "The union() method returns a new set that contains all the elements from both sets. It does not modify the original sets."
   ]
  },
  {
   "cell_type": "code",
   "execution_count": 6,
   "metadata": {},
   "outputs": [
    {
     "name": "stdout",
     "output_type": "stream",
     "text": [
      "{1, 2, 3, 4, 5, 6}\n"
     ]
    }
   ],
   "source": [
    "set1 = {1,2,3}\n",
    "set2 = {3,4,5,6}\n",
    "\n",
    "set3 = set1.union(set2)\n",
    "print(set3)"
   ]
  },
  {
   "cell_type": "markdown",
   "metadata": {},
   "source": [
    "On the other hand, the update() method modifies the set it is called on to include all the elements from both sets. It does not return a new set."
   ]
  },
  {
   "cell_type": "code",
   "execution_count": 7,
   "metadata": {},
   "outputs": [
    {
     "name": "stdout",
     "output_type": "stream",
     "text": [
      "{1, 2, 3, 4, 5, 6}\n"
     ]
    }
   ],
   "source": [
    "set1 = {1,2,3}\n",
    "set2 = {3,4,5,6}\n",
    "\n",
    "set1.update(set2)\n",
    "print(set1)"
   ]
  },
  {
   "cell_type": "markdown",
   "metadata": {},
   "source": [
    "### Q5. What is a dictionary? Give an example. Also, state whether a dictionary is ordered or unordered."
   ]
  },
  {
   "cell_type": "markdown",
   "metadata": {},
   "source": [
    "Dictionaries are used to store data values in key:value pairs.\n",
    "\n",
    "A dictionary is a collection which is ordered*, changeable and do not allow duplicates."
   ]
  },
  {
   "cell_type": "code",
   "execution_count": 8,
   "metadata": {},
   "outputs": [
    {
     "name": "stdout",
     "output_type": "stream",
     "text": [
      "{'name': 'kuntal', 'roll': 5, 'contact': 646454646}\n"
     ]
    }
   ],
   "source": [
    "dict ={\n",
    "    \"name\" : \"kuntal\",\n",
    "    \"roll\" : 5,\n",
    "    \"contact\" : 646454646\n",
    "}\n",
    "\n",
    "print(dict)"
   ]
  },
  {
   "cell_type": "markdown",
   "metadata": {},
   "source": [
    "### Q6. Can we create a nested dictionary? If so, please give an example by creating a simple one-level nested dictionary."
   ]
  },
  {
   "cell_type": "markdown",
   "metadata": {},
   "source": [
    "Yes, we can create a nested dictionary"
   ]
  },
  {
   "cell_type": "code",
   "execution_count": 10,
   "metadata": {},
   "outputs": [
    {
     "name": "stdout",
     "output_type": "stream",
     "text": [
      "{'name': 'kuntal', 'roll': 5, 'contact': {'phone': '9595959595', 'email': 'udufufhfj@gmail.com'}}\n"
     ]
    }
   ],
   "source": [
    "dict ={\n",
    "    \"name\" : \"kuntal\",\n",
    "    \"roll\" : 5,\n",
    "    \"contact\" : {\n",
    "        \"phone\" : \"9595959595\",\n",
    "        \"email\" : \"udufufhfj@gmail.com\"\n",
    "    }\n",
    "}\n",
    "\n",
    "print(dict)"
   ]
  },
  {
   "cell_type": "markdown",
   "metadata": {},
   "source": [
    "### Q7. Using setdefault() method, create key named topics in the given dictionary and also add the value of the key as this \n",
    "list ['Python', 'Machine Learning’, 'Deep Learning']  \n",
    "dict1 = {'language' : 'Python', 'course': 'Data Science Masters'}"
   ]
  },
  {
   "cell_type": "code",
   "execution_count": 13,
   "metadata": {},
   "outputs": [
    {
     "name": "stdout",
     "output_type": "stream",
     "text": [
      "{'language': 'Python', 'course': 'Data Science Masters', 'topic': ['Python', 'Machine Learning', 'Deep Learning']}\n"
     ]
    }
   ],
   "source": [
    "list = [\"Python\", \"Machine Learning\", \"Deep Learning\"]  \n",
    "dict1 = {'language' : 'Python', 'course': 'Data Science Masters'}\n",
    "\n",
    "dict1.setdefault(\"topic\",list)\n",
    "print(dict1)"
   ]
  },
  {
   "cell_type": "markdown",
   "metadata": {},
   "source": [
    "### Q8 . What are the three view objects in dictionaries? Use the three in-built methods in python to display these three view objects for the given dictionary.  \n",
    "dict1 = {'Sport': 'Cricket' , 'Teams': ['India', 'Australia', 'England', 'South Africa', 'Sri Lanka', 'New  Zealand']}\n"
   ]
  },
  {
   "cell_type": "markdown",
   "metadata": {},
   "source": [
    "In Python dictionaries, there are three types of view objects:\n",
    "\n",
    "1. dict_keys: It represents all the available keys in the dictionary.\n",
    "2. dict_values: It represents a view of all the values in the dictionary.\n",
    "3. dict_items: It represents a view of all the key-value pairs in the dictionary as tuples."
   ]
  },
  {
   "cell_type": "code",
   "execution_count": 15,
   "metadata": {},
   "outputs": [
    {
     "name": "stdout",
     "output_type": "stream",
     "text": [
      "keys view :  dict_keys(['Sport', 'Teams'])\n",
      "values view :  dict_values(['Cricket', ['India', 'Australia', 'England', 'South Africa', 'Sri Lanka', 'New  Zealand']])\n",
      "items view :  dict_items([('Sport', 'Cricket'), ('Teams', ['India', 'Australia', 'England', 'South Africa', 'Sri Lanka', 'New  Zealand'])])\n"
     ]
    }
   ],
   "source": [
    "dict1 = {'Sport': 'Cricket' , 'Teams': ['India', 'Australia', 'England', 'South Africa', 'Sri Lanka', 'New  Zealand']}\n",
    "\n",
    "print(\"keys view : \",dict1.keys())\n",
    "print(\"values view : \",dict1.values())\n",
    "print(\"items view : \",dict1.items())"
   ]
  }
 ],
 "metadata": {
  "kernelspec": {
   "display_name": "Python 3",
   "language": "python",
   "name": "python3"
  },
  "language_info": {
   "codemirror_mode": {
    "name": "ipython",
    "version": 3
   },
   "file_extension": ".py",
   "mimetype": "text/x-python",
   "name": "python",
   "nbconvert_exporter": "python",
   "pygments_lexer": "ipython3",
   "version": "3.12.4"
  }
 },
 "nbformat": 4,
 "nbformat_minor": 2
}
